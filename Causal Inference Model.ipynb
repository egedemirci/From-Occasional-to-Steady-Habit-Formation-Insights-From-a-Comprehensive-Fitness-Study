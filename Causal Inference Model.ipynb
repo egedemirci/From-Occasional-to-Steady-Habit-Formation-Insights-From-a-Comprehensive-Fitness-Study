{
 "cells": [
  {
   "cell_type": "code",
   "execution_count": 1,
   "metadata": {
    "execution": {
     "iopub.execute_input": "2024-07-05T06:11:40.654769Z",
     "iopub.status.busy": "2024-07-05T06:11:40.654218Z",
     "iopub.status.idle": "2024-07-05T06:11:52.337115Z",
     "shell.execute_reply": "2024-07-05T06:11:52.335932Z"
    }
   },
   "outputs": [
    {
     "name": "stderr",
     "output_type": "stream",
     "text": [
      "/cta/users/edemirci/env/lib/python3.8/site-packages/tqdm/auto.py:22: TqdmWarning: IProgress not found. Please update jupyter and ipywidgets. See https://ipywidgets.readthedocs.io/en/stable/user_install.html\n",
      "  from .autonotebook import tqdm as notebook_tqdm\n"
     ]
    }
   ],
   "source": [
    "import pandas as pd\n",
    "import numpy as np\n",
    "from tqdm.auto import tqdm\n",
    "from dowhy import CausalModel\n",
    "import warnings\n",
    "import os\n",
    "\n",
    "warnings.filterwarnings('ignore')"
   ]
  },
  {
   "cell_type": "code",
   "execution_count": 2,
   "metadata": {
    "execution": {
     "iopub.execute_input": "2024-07-05T06:11:52.341894Z",
     "iopub.status.busy": "2024-07-05T06:11:52.341489Z",
     "iopub.status.idle": "2024-07-05T06:12:17.396375Z",
     "shell.execute_reply": "2024-07-05T06:12:17.395573Z"
    }
   },
   "outputs": [],
   "source": [
    "cstmr = pd.read_csv(\"./cstmr_june_22_dowhy.csv\")"
   ]
  },
  {
   "cell_type": "code",
   "execution_count": 4,
   "metadata": {
    "execution": {
     "iopub.execute_input": "2024-07-05T06:12:17.407170Z",
     "iopub.status.busy": "2024-07-05T06:12:17.406922Z",
     "iopub.status.idle": "2024-07-05T06:12:17.411144Z",
     "shell.execute_reply": "2024-07-05T06:12:17.410399Z"
    }
   },
   "outputs": [],
   "source": [
    "outcome = [f'Flag_{i}' for i in range(6, 18)]\n",
    "\n",
    "common_causes = [\"AGE\", \"BMI\", \"CONTRACT_START_DATE_DOY\", 'SEX_Female', 'CLUB_ID', \n",
    "                'MEMBERSHIP_CATEGORY_NAME', 'TECRUBE', 'GECE_PROB','OGLEN_PROB',\n",
    "                'AKSAM_PROB', 'SABAH_PROB','IKINDI_PROB'] "
   ]
  },
  {
   "cell_type": "code",
   "execution_count": 7,
   "metadata": {
    "execution": {
     "iopub.execute_input": "2024-07-05T06:12:17.431440Z",
     "iopub.status.busy": "2024-07-05T06:12:17.431179Z",
     "iopub.status.idle": "2024-07-05T06:12:17.754220Z",
     "shell.execute_reply": "2024-07-05T06:12:17.753439Z"
    }
   },
   "outputs": [],
   "source": [
    "cols = [\"TECRUBE\", 'FORM', 'SIKLIK'] #EXPERIENCE, FORM, FREQUENCY\n",
    "for col in cols:\n",
    "    cstmr = cstmr[cstmr[col].isna()== False]"
   ]
  },
  {
   "cell_type": "code",
   "execution_count": 8,
   "metadata": {
    "execution": {
     "iopub.execute_input": "2024-07-05T06:12:17.758062Z",
     "iopub.status.busy": "2024-07-05T06:12:17.757905Z",
     "iopub.status.idle": "2024-07-05T11:08:11.019265Z",
     "shell.execute_reply": "2024-07-05T11:08:11.018197Z"
    }
   },
   "outputs": [
    {
     "name": "stderr",
     "output_type": "stream",
     "text": [
      "100%|████████████████████████████████████████████████████████████████████████████████████████████████████| 12/12 [4:55:53<00:00, 1479.44s/it]\n"
     ]
    }
   ],
   "source": [
    "\n",
    "treatment_v3 = [\n",
    "    'FORM>10',\n",
    "    'FORM>30',\n",
    "    'TECRUBE>0',\n",
    "    'TECRUBE>1',\n",
    "    'TECRUBE>2',\n",
    "    'SIKLIK>1',\n",
    "    'SIKLIK>2'\n",
    "]\n",
    "\n",
    "common_causes.remove('TECRUBE')\n",
    "\n",
    "outcome = [f'Flag_{i}' for i in range(6, 18)]\n",
    "\n",
    "# Ensure the file has a header row\n",
    "file_path = \"./dowhy-tests/dowhy-tests-gtkb-june22.csv\"\n",
    "if not os.path.exists(file_path):\n",
    "    with open(file_path, \"w\") as f:\n",
    "        f.write(\"flag,column,estimated_effect,new_effect_with_random_cause,p_value\\n\")\n",
    "\n",
    "for out in tqdm(outcome):\n",
    "    for t in treatment_v3:\n",
    "        model = CausalModel(\n",
    "            data=cstmr,\n",
    "            treatment=t,\n",
    "            outcome=out,\n",
    "            common_causes=common_causes,\n",
    "        )\n",
    "        identified_estimand = model.identify_effect()\n",
    "        estimate = model.estimate_effect(identified_estimand, method_name=\"backdoor.propensity_score_matching\", confidence_intervals=False)\n",
    "        refute_results = model.refute_estimate(identified_estimand, estimate, method_name=\"random_common_cause\", n_jobs=24)\n",
    "        est, new, p_val = refute_results.estimated_effect, refute_results.new_effect, refute_results.refutation_result[\"p_value\"]\n",
    "        \n",
    "        with open(file_path, \"a\") as f:\n",
    "            f.write(f\"{out},{t},{est},{new},{p_val}\\n\")"
   ]
  },
  {
   "cell_type": "markdown",
   "metadata": {},
   "source": [
    "### Clusters"
   ]
  },
  {
   "cell_type": "code",
   "execution_count": 9,
   "metadata": {
    "execution": {
     "iopub.execute_input": "2024-07-05T11:08:11.023616Z",
     "iopub.status.busy": "2024-07-05T11:08:11.023283Z",
     "iopub.status.idle": "2024-07-05T11:08:36.669183Z",
     "shell.execute_reply": "2024-07-05T11:08:36.668279Z"
    }
   },
   "outputs": [],
   "source": [
    "cstmr = pd.read_csv(\"./cstmr_june_22_dowhy.csv\")"
   ]
  },
  {
   "cell_type": "code",
   "execution_count": 10,
   "metadata": {
    "execution": {
     "iopub.execute_input": "2024-07-05T11:08:36.673402Z",
     "iopub.status.busy": "2024-07-05T11:08:36.673188Z",
     "iopub.status.idle": "2024-07-05T11:08:47.466151Z",
     "shell.execute_reply": "2024-07-05T11:08:47.465196Z"
    }
   },
   "outputs": [
    {
     "name": "stdout",
     "output_type": "stream",
     "text": [
      "(25301, 478)\n",
      "(71370, 478)\n",
      "(35764, 478)\n",
      "(39835, 478)\n",
      "(27513, 478)\n",
      "(144747, 478)\n",
      "(55036, 478)\n"
     ]
    }
   ],
   "source": [
    "# Morning (sabah), Night (gece), Afternoon (ikindi), Noon (öğlen), Male (erkek), Female (kadın)\n",
    "\n",
    "sabahci_df = cstmr[cstmr[\"MAX_CLUSTER\"] == \"SABAH\"]\n",
    "gece_df = cstmr[cstmr[\"MAX_CLUSTER\"] == \"GECE\"]\n",
    "aksam_df = cstmr[cstmr[\"MAX_CLUSTER\"] == \"AKSAM\"]\n",
    "ikindi_df = cstmr[cstmr[\"MAX_CLUSTER\"] == \"IKINDI\"]\n",
    "oglen_df = cstmr[cstmr[\"MAX_CLUSTER\"] == \"OGLEN\"]\n",
    "erkek_df = cstmr[cstmr[\"SEX_Female\"] == 0]\n",
    "kadin_df = cstmr[cstmr[\"SEX_Female\"] == 1]\n",
    "\n",
    "\n",
    "print(sabahci_df.shape)\n",
    "print(gece_df.shape)\n",
    "print(aksam_df.shape)\n",
    "print(ikindi_df.shape)\n",
    "print(oglen_df.shape)\n",
    "print(erkek_df.shape)\n",
    "print(kadin_df.shape)"
   ]
  },
  {
   "cell_type": "code",
   "execution_count": 11,
   "metadata": {
    "execution": {
     "iopub.execute_input": "2024-07-05T11:08:47.469776Z",
     "iopub.status.busy": "2024-07-05T11:08:47.469619Z",
     "iopub.status.idle": "2024-07-05T11:08:47.473775Z",
     "shell.execute_reply": "2024-07-05T11:08:47.472868Z"
    }
   },
   "outputs": [],
   "source": [
    "outcome = [f'Flag_{i}' for i in range(6, 18)]\n",
    "\n",
    "common_causes = [\"AGE\", \"BMI\", \"CONTRACT_START_DATE_DOY\", 'SEX_Female', 'CLUB_ID', \n",
    "                'MEMBERSHIP_CATEGORY_NAME', 'TECRUBE']"
   ]
  },
  {
   "cell_type": "markdown",
   "metadata": {},
   "source": [
    "### Master Treatment"
   ]
  },
  {
   "cell_type": "code",
   "execution_count": 12,
   "metadata": {
    "execution": {
     "iopub.execute_input": "2024-07-05T11:08:47.477393Z",
     "iopub.status.busy": "2024-07-05T11:08:47.476658Z",
     "iopub.status.idle": "2024-07-07T03:33:24.695338Z",
     "shell.execute_reply": "2024-07-07T03:33:24.694199Z"
    }
   },
   "outputs": [
    {
     "name": "stderr",
     "output_type": "stream",
     "text": [
      "100%|█████████████████████████████████████████████████████████████████████████████████████████████████████| 24/24 [5:16:03<00:00, 790.16s/it]\n",
      "100%|███████████████████████████████████████████████████████████████████████████████████████████████████| 24/24 [15:56:01<00:00, 2390.07s/it]\n",
      "100%|█████████████████████████████████████████████████████████████████████████████████████████████████████| 24/24 [6:28:24<00:00, 971.02s/it]\n",
      "100%|████████████████████████████████████████████████████████████████████████████████████████████████████| 24/24 [7:30:23<00:00, 1125.99s/it]\n",
      "100%|█████████████████████████████████████████████████████████████████████████████████████████████████████| 24/24 [5:13:43<00:00, 784.32s/it]\n"
     ]
    }
   ],
   "source": [
    "df_names = [sabahci_df, gece_df, aksam_df, ikindi_df, oglen_df]\n",
    "file_names = [\"SABAH\",\"GECE\",\"AKSAM\",\"IKINDI\",\"OGLEN\"]\n",
    "for idx in range(len(df_names)):\n",
    "    treatment_v1 = [\n",
    "        'GROUP_LESSONS_6_WEEKS_0',\n",
    "        'GROUP_LESSONS_6_WEEKS_1',\n",
    "        'GROUP_LESSONS_6_WEEKS_2',\n",
    "        'GROUP_LESSONS_6_WEEKS_3',\n",
    "        'PT_6_WEEKS_0',\n",
    "        'PT_6_WEEKS_1',\n",
    "        'PT_6_WEEKS_2',\n",
    "        'PT_6_WEEKS_3',\n",
    "        'DIFF_VST_6_0',\n",
    "        'DIFF_VST_6_1',\n",
    "        'DIFF_VST_6_2',\n",
    "        'DIFF_VST_6_3',\n",
    "        'DIFF_GROUP_LESSON_6_0',\n",
    "        'DIFF_GROUP_LESSON_6_1',\n",
    "        'DIFF_GROUP_LESSON_6_2',\n",
    "        'DIFF_GROUP_LESSON_6_3',\n",
    "        'CREDIT_6_WEEKS_0',\n",
    "        'CREDIT_6_WEEKS_1',\n",
    "        'CREDIT_6_WEEKS_2',\n",
    "        'CREDIT_6_WEEKS_3',\n",
    "        'PAIRS_6_WEEKS_0',\n",
    "        'PAIRS_6_WEEKS_1',\n",
    "        'PAIRS_6_WEEKS_2',\n",
    "        'PAIRS_6_WEEKS_3',\n",
    "    ]\n",
    "\n",
    "    outcome = [f'Flag_{i}' for i in range(6, 18)]\n",
    "\n",
    "    # Ensure the file has a header row\n",
    "    file_path = \"./dowhy-tests/dowhy-tests-june22_\" + file_names[idx] + \".csv\"\n",
    "    if not os.path.exists(file_path):\n",
    "        with open(file_path, \"w\") as f:\n",
    "            f.write(\"flag,column,estimated_effect,new_effect_with_random_cause,p_value\\n\")\n",
    "\n",
    "    for t in tqdm(treatment_v1):\n",
    "        for out in outcome:\n",
    "            model = CausalModel(\n",
    "                data=df_names[idx],\n",
    "                treatment=t,\n",
    "                outcome=out,\n",
    "                common_causes=common_causes,\n",
    "            )\n",
    "            identified_estimand = model.identify_effect()\n",
    "            estimate = model.estimate_effect(identified_estimand, method_name=\"backdoor.propensity_score_matching\", confidence_intervals=False)\n",
    "            refute_results = model.refute_estimate(identified_estimand, estimate, method_name=\"random_common_cause\", n_jobs=24)\n",
    "            est, new, p_val = refute_results.estimated_effect, refute_results.new_effect, refute_results.refutation_result[\"p_value\"]\n",
    "            \n",
    "            with open(file_path, \"a\") as f:\n",
    "                f.write(f\"{out},{t},{est},{new},{p_val}\\n\")\n"
   ]
  },
  {
   "cell_type": "markdown",
   "metadata": {},
   "source": [
    "### GTKB as Predictors - Dummies"
   ]
  },
  {
   "cell_type": "code",
   "execution_count": 13,
   "metadata": {
    "execution": {
     "iopub.execute_input": "2024-07-07T03:33:24.698749Z",
     "iopub.status.busy": "2024-07-07T03:33:24.698400Z",
     "iopub.status.idle": "2024-07-07T03:33:25.055535Z",
     "shell.execute_reply": "2024-07-07T03:33:25.054638Z"
    }
   },
   "outputs": [],
   "source": [
    "cols = [\"TECRUBE\", 'FORM', 'SIKLIK']\n",
    "for col in cols:\n",
    "    cstmr = cstmr[cstmr[col].isna()== False]\n",
    "\n",
    "sabahci_df = cstmr[cstmr[\"MAX_CLUSTER\"] == \"SABAH\"]\n",
    "gece_df = cstmr[cstmr[\"MAX_CLUSTER\"] == \"GECE\"]\n",
    "aksam_df = cstmr[cstmr[\"MAX_CLUSTER\"] == \"AKSAM\"]\n",
    "ikindi_df = cstmr[cstmr[\"MAX_CLUSTER\"] == \"IKINDI\"]\n",
    "oglen_df = cstmr[cstmr[\"MAX_CLUSTER\"] == \"OGLEN\"]\n"
   ]
  },
  {
   "cell_type": "code",
   "execution_count": 14,
   "metadata": {
    "execution": {
     "iopub.execute_input": "2024-07-07T03:33:25.059118Z",
     "iopub.status.busy": "2024-07-07T03:33:25.058960Z",
     "iopub.status.idle": "2024-07-07T07:13:16.754865Z",
     "shell.execute_reply": "2024-07-07T07:13:16.753984Z"
    }
   },
   "outputs": [
    {
     "name": "stderr",
     "output_type": "stream",
     "text": [
      "100%|███████████████████████████████████████████████████████████████████████████████████████████████████████| 12/12 [28:13<00:00, 141.11s/it]\n",
      "100%|█████████████████████████████████████████████████████████████████████████████████████████████████████| 12/12 [1:18:54<00:00, 394.58s/it]\n",
      "100%|███████████████████████████████████████████████████████████████████████████████████████████████████████| 12/12 [40:46<00:00, 203.85s/it]\n",
      "100%|███████████████████████████████████████████████████████████████████████████████████████████████████████| 12/12 [42:35<00:00, 212.92s/it]\n",
      "100%|███████████████████████████████████████████████████████████████████████████████████████████████████████| 12/12 [29:22<00:00, 146.84s/it]\n"
     ]
    }
   ],
   "source": [
    "df_names = [sabahci_df, gece_df, aksam_df, ikindi_df, oglen_df]\n",
    "file_names = [\"SABAH\",\"GECE\",\"AKSAM\",\"IKINDI\",\"OGLEN\"]\n",
    "common_causes.remove('TECRUBE')\n",
    "\n",
    "for idx in range(len(df_names)):\n",
    "    treatment_v3 = [\n",
    "        'FORM>10',\n",
    "        'FORM>30',\n",
    "        'TECRUBE>0',\n",
    "        'TECRUBE>1',\n",
    "        'TECRUBE>2',\n",
    "        'SIKLIK>1',\n",
    "        'SIKLIK>2'\n",
    "    ]\n",
    "    outcome = [f'Flag_{i}' for i in range(6, 18)]\n",
    "\n",
    "    # Ensure the file has a header row\n",
    "    file_path = \"./dowhy-tests/dowhy-tests-june22_\" + file_names[idx] + \".csv\"\n",
    "    if not os.path.exists(file_path):\n",
    "        with open(file_path, \"w\") as f:\n",
    "            f.write(\"flag,column,estimated_effect,new_effect_with_random_cause,p_value\\n\")\n",
    "\n",
    "    for out in tqdm(outcome):\n",
    "        for t in treatment_v3:\n",
    "            model = CausalModel(\n",
    "                data=df_names[idx],\n",
    "                treatment=t,\n",
    "                outcome=out,\n",
    "                common_causes=common_causes,\n",
    "            )\n",
    "            identified_estimand = model.identify_effect()\n",
    "            estimate = model.estimate_effect(identified_estimand, method_name=\"backdoor.propensity_score_matching\", confidence_intervals=False)\n",
    "            refute_results = model.refute_estimate(identified_estimand, estimate, method_name=\"random_common_cause\", n_jobs=24)\n",
    "            est, new, p_val = refute_results.estimated_effect, refute_results.new_effect, refute_results.refutation_result[\"p_value\"]\n",
    "            \n",
    "            with open(file_path, \"a\") as f:\n",
    "                f.write(f\"{out},{t},{est},{new},{p_val}\\n\")"
   ]
  },
  {
   "cell_type": "markdown",
   "metadata": {},
   "source": [
    "### Gender"
   ]
  },
  {
   "cell_type": "code",
   "execution_count": 15,
   "metadata": {
    "execution": {
     "iopub.execute_input": "2024-07-07T07:13:16.759308Z",
     "iopub.status.busy": "2024-07-07T07:13:16.758984Z",
     "iopub.status.idle": "2024-07-07T07:13:20.855839Z",
     "shell.execute_reply": "2024-07-07T07:13:20.855071Z"
    }
   },
   "outputs": [],
   "source": [
    "cstmr = pd.read_csv(\"./cstmr_may_30_dowhy.csv\")\n",
    "\n",
    "erkek_df = cstmr[cstmr[\"SEX_Female\"] == 0]\n",
    "kadin_df = cstmr[cstmr[\"SEX_Female\"] == 1]"
   ]
  },
  {
   "cell_type": "code",
   "execution_count": 16,
   "metadata": {
    "execution": {
     "iopub.execute_input": "2024-07-07T07:13:20.859669Z",
     "iopub.status.busy": "2024-07-07T07:13:20.859518Z",
     "iopub.status.idle": "2024-07-07T07:13:20.863432Z",
     "shell.execute_reply": "2024-07-07T07:13:20.862670Z"
    }
   },
   "outputs": [],
   "source": [
    "outcome = [f'Flag_{i}' for i in range(6, 18)]\n",
    "\n",
    "common_causes = [\"AGE\", \"BMI\", \"CONTRACT_START_DATE_DOY\", 'CLUB_ID', \n",
    "                'MEMBERSHIP_CATEGORY_NAME', 'TECRUBE', 'GECE_PROB','OGLEN_PROB',\n",
    "                'AKSAM_PROB', 'SABAH_PROB','IKINDI_PROB']"
   ]
  },
  {
   "cell_type": "code",
   "execution_count": 17,
   "metadata": {
    "execution": {
     "iopub.execute_input": "2024-07-07T07:13:20.867140Z",
     "iopub.status.busy": "2024-07-07T07:13:20.866881Z",
     "iopub.status.idle": "2024-07-09T00:44:39.705140Z",
     "shell.execute_reply": "2024-07-09T00:44:39.704059Z"
    }
   },
   "outputs": [
    {
     "name": "stderr",
     "output_type": "stream",
     "text": [
      "100%|███████████████████████████████████████████████████████████████████████████████████████████████████| 24/24 [31:07:02<00:00, 4667.62s/it]\n",
      "100%|███████████████████████████████████████████████████████████████████████████████████████████████████| 24/24 [10:24:15<00:00, 1560.66s/it]\n"
     ]
    }
   ],
   "source": [
    "df_names = [erkek_df, kadin_df]\n",
    "file_names = [\"ERKEK\",\"KADIN\"]\n",
    "for idx in range(len(df_names)):\n",
    "    treatment_v1 = [\n",
    "        'GROUP_LESSONS_6_WEEKS_0',\n",
    "        'GROUP_LESSONS_6_WEEKS_1',\n",
    "        'GROUP_LESSONS_6_WEEKS_2',\n",
    "        'GROUP_LESSONS_6_WEEKS_3',\n",
    "        'PT_6_WEEKS_0',\n",
    "        'PT_6_WEEKS_1',\n",
    "        'PT_6_WEEKS_2',\n",
    "        'PT_6_WEEKS_3',\n",
    "        'DIFF_VST_6_0',\n",
    "        'DIFF_VST_6_1',\n",
    "        'DIFF_VST_6_2',\n",
    "        'DIFF_VST_6_3',\n",
    "        'DIFF_GROUP_LESSON_6_0',\n",
    "        'DIFF_GROUP_LESSON_6_1',\n",
    "        'DIFF_GROUP_LESSON_6_2',\n",
    "        'DIFF_GROUP_LESSON_6_3',\n",
    "        'CREDIT_6_WEEKS_0',\n",
    "        'CREDIT_6_WEEKS_1',\n",
    "        'CREDIT_6_WEEKS_2',\n",
    "        'CREDIT_6_WEEKS_3',\n",
    "        'PAIRS_6_WEEKS_0',\n",
    "        'PAIRS_6_WEEKS_1',\n",
    "        'PAIRS_6_WEEKS_2',\n",
    "        'PAIRS_6_WEEKS_3',\n",
    "    ]\n",
    "\n",
    "    outcome = [f'Flag_{i}' for i in range(6, 18)]\n",
    "\n",
    "    # Ensure the file has a header row\n",
    "    file_path = \"./dowhy-tests/dowhy-tests-june22_\" + file_names[idx] + \".csv\"\n",
    "    if not os.path.exists(file_path):\n",
    "        with open(file_path, \"w\") as f:\n",
    "            f.write(\"flag,column,estimated_effect,new_effect_with_random_cause,p_value\\n\")\n",
    "\n",
    "    for t in tqdm(treatment_v1):\n",
    "        for out in outcome:\n",
    "            model = CausalModel(\n",
    "                data=df_names[idx],\n",
    "                treatment=t,\n",
    "                outcome=out,\n",
    "                common_causes=common_causes,\n",
    "            )\n",
    "            identified_estimand = model.identify_effect()\n",
    "            estimate = model.estimate_effect(identified_estimand, method_name=\"backdoor.propensity_score_matching\", confidence_intervals=False)\n",
    "            refute_results = model.refute_estimate(identified_estimand, estimate, method_name=\"random_common_cause\", n_jobs=24)\n",
    "            est, new, p_val = refute_results.estimated_effect, refute_results.new_effect, refute_results.refutation_result[\"p_value\"]\n",
    "            \n",
    "            with open(file_path, \"a\") as f:\n",
    "                f.write(f\"{out},{t},{est},{new},{p_val}\\n\")\n"
   ]
  },
  {
   "cell_type": "code",
   "execution_count": 18,
   "metadata": {
    "execution": {
     "iopub.execute_input": "2024-07-09T00:44:39.709649Z",
     "iopub.status.busy": "2024-07-09T00:44:39.709428Z",
     "iopub.status.idle": "2024-07-09T00:44:39.970871Z",
     "shell.execute_reply": "2024-07-09T00:44:39.970282Z"
    }
   },
   "outputs": [],
   "source": [
    "cols = [\"TECRUBE\", 'FORM', 'SIKLIK']\n",
    "for col in cols:\n",
    "    cstmr = cstmr[cstmr[col].isna()== False]\n",
    "\n",
    "erkek_df = cstmr[cstmr[\"SEX_Female\"] == 0]\n",
    "kadin_df = cstmr[cstmr[\"SEX_Female\"] == 1]"
   ]
  },
  {
   "cell_type": "code",
   "execution_count": 19,
   "metadata": {
    "execution": {
     "iopub.execute_input": "2024-07-09T00:44:39.974610Z",
     "iopub.status.busy": "2024-07-09T00:44:39.974450Z",
     "iopub.status.idle": "2024-07-09T04:20:35.760976Z",
     "shell.execute_reply": "2024-07-09T04:20:35.760290Z"
    }
   },
   "outputs": [
    {
     "name": "stderr",
     "output_type": "stream",
     "text": [
      "100%|█████████████████████████████████████████████████████████████████████████████████████████████████████| 12/12 [2:33:26<00:00, 767.25s/it]\n",
      "100%|█████████████████████████████████████████████████████████████████████████████████████████████████████| 12/12 [1:02:28<00:00, 312.38s/it]\n"
     ]
    }
   ],
   "source": [
    "df_names = [erkek_df, kadin_df]\n",
    "file_names = [\"ERKEK\",\"KADIN\"]\n",
    "common_causes.remove('TECRUBE')\n",
    "for idx in range(len(df_names)):\n",
    "    treatment_v3 = [\n",
    "        'FORM>10',\n",
    "        'FORM>30',\n",
    "        'TECRUBE>0',\n",
    "        'TECRUBE>1',\n",
    "        'TECRUBE>2',\n",
    "        'SIKLIK>1',\n",
    "        'SIKLIK>2'\n",
    "    ]\n",
    "\n",
    "    outcome = [f'Flag_{i}' for i in range(6, 18)]\n",
    "\n",
    "    # Ensure the file has a header row\n",
    "    file_path = \"./dowhy-tests/dowhy-tests-june22_\" + file_names[idx] + \".csv\"\n",
    "    if not os.path.exists(file_path):\n",
    "        with open(file_path, \"w\") as f:\n",
    "            f.write(\"flag,column,estimated_effect,new_effect_with_random_cause,p_value\\n\")\n",
    "\n",
    "    for out in tqdm(outcome):\n",
    "        for t in treatment_v3:\n",
    "            model = CausalModel(\n",
    "                data=df_names[idx],\n",
    "                treatment=t,\n",
    "                outcome=out,\n",
    "                common_causes=common_causes,\n",
    "            )\n",
    "            identified_estimand = model.identify_effect()\n",
    "            estimate = model.estimate_effect(identified_estimand, method_name=\"backdoor.propensity_score_matching\", confidence_intervals=False)\n",
    "            refute_results = model.refute_estimate(identified_estimand, estimate, method_name=\"random_common_cause\", n_jobs=24)\n",
    "            est, new, p_val = refute_results.estimated_effect, refute_results.new_effect, refute_results.refutation_result[\"p_value\"]\n",
    "            \n",
    "            with open(file_path, \"a\") as f:\n",
    "                f.write(f\"{out},{t},{est},{new},{p_val}\\n\")"
   ]
  }
 ],
 "metadata": {
  "kernelspec": {
   "display_name": "Python 3 (ipykernel)",
   "language": "python",
   "name": "python3"
  },
  "language_info": {
   "codemirror_mode": {
    "name": "ipython",
    "version": 3
   },
   "file_extension": ".py",
   "mimetype": "text/x-python",
   "name": "python",
   "nbconvert_exporter": "python",
   "pygments_lexer": "ipython3",
   "version": "3.10.9"
  }
 },
 "nbformat": 4,
 "nbformat_minor": 2
}
