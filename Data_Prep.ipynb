{
 "cells": [
  {
   "cell_type": "code",
   "execution_count": 1,
   "id": "baa1f248",
   "metadata": {},
   "outputs": [],
   "source": [
    "import pandas as pd\n",
    "import numpy as np\n",
    "from datetime import datetime\n",
    "from tqdm import tqdm\n",
    "import matplotlib.pyplot as plt\n",
    "import seaborn as sns\n",
    "\n",
    "cstmr = pd.read_csv(\"customer_data.csv\") #Data from Company Database"
   ]
  },
  {
   "cell_type": "markdown",
   "id": "288526ae",
   "metadata": {},
   "source": [
    "# Visits and Survival"
   ]
  },
  {
   "cell_type": "code",
   "execution_count": 23,
   "id": "d3bde1ed",
   "metadata": {},
   "outputs": [
    {
     "name": "stderr",
     "output_type": "stream",
     "text": [
      "100%|██████████| 52/52 [00:50<00:00,  1.03it/s]\n"
     ]
    }
   ],
   "source": [
    "vst = pd.read_csv(\"all_vsts_202401.csv\")\n",
    "vst['ENTER_DATE'] = pd.to_datetime(vst['ENTER_DATE'])\n",
    "vst['ENTER_DATE'] = vst['ENTER_DATE'].dt.date\n",
    "vst = vst[[\"USER_ID\", \"ENTER_DATE\"]].drop_duplicates()\n",
    "vst['ENTER_DATE'] = pd.to_datetime(vst['ENTER_DATE'])\n",
    "\n",
    "dimension = pd.DataFrame(vst[\"USER_ID\"].unique(), \n",
    "                         columns=[\"USER_ID\"]).merge(pd.DataFrame(week[\"Week_Number\"].unique(), \n",
    "                                                                 columns=[\"Week_Number\"]), how=\"cross\")\n",
    "\n",
    "first_visit_week = vst.merge(week, left_on=\"ENTER_DATE\", right_on= \"date\", how=\"outer\").groupby([\"USER_ID\"])[\"Week_Number\"]\\\n",
    "                    .min().reset_index()\n",
    "\n",
    "first_visit_week.columns = [\"USER_ID\", \"first_visit_week\"]\n",
    "\n",
    "weekly = vst.merge(week, left_on=\"ENTER_DATE\", right_on= \"date\", how=\"outer\").groupby([\"USER_ID\", \"Week_Number\"]).count().reset_index()\n",
    "weekly = weekly.merge(dimension, on=[\"USER_ID\", \"Week_Number\"], how=\"right\").fillna(0)\n",
    "weekly = weekly.merge(first_visit_week, on =\"USER_ID\")\n",
    "weekly = weekly.rename(columns={\"ENTER_DATE\": \"VST_COUNT\"})\n",
    "weekly = weekly[weekly[\"first_visit_week\"] <= weekly[\"Week_Number\"]]\n",
    "weekly = weekly[weekly[\"first_visit_week\"] <= weekly[\"Week_Number\"]]\n",
    "\n",
    "summary_df = cstmr[[\"USER_ID\"]]\n",
    "\n",
    "for i in tqdm(range(1, 53)):\n",
    "    temp = weekly[(weekly[\"Week_Number\"] <= weekly[\"first_visit_week\"]+i-1) & \n",
    "    (weekly[\"Week_Number\"] >=weekly[\"first_visit_week\"])].groupby(\"USER_ID\")[\"VST_COUNT\"].sum().reset_index()\n",
    "    temp.rename(columns={\"VST_COUNT\": \"VISITS_\"+str(i)+\"_WEEKS\"}, inplace=True)\n",
    "    summary_df = summary_df.merge(temp, on=\"USER_ID\")\n",
    "\n",
    "def calculate_survival_grace_days(group):\n",
    "    # Ensure the group is sorted by Week_Number if not already\n",
    "    group = group.sort_values('Week_Number')\n",
    "    \n",
    "    # Convert VST_COUNT to a string of 0s and 1s, where 0 indicates no visit\n",
    "    visit_string = ''.join(group['VST_COUNT'].astype(int).astype(str))\n",
    "    \n",
    "    # Initialize the result dictionary\n",
    "    results = {}\n",
    "    \n",
    "    weeks = 0\n",
    "    if len(visit_string) > weeks:\n",
    "        vst_string = visit_string[weeks:]\n",
    "        grace_day_idx = vst_string.find('00')\n",
    "\n",
    "        # If '0' is not found, use the length of the visit string\n",
    "            \n",
    "        if grace_day_idx == -1:\n",
    "            grace_day_idx = len(vst_string)\n",
    "\n",
    "    else:\n",
    "        grace_day_idx = 0\n",
    "        \n",
    "    results[f'{weeks}_WEEKS_SURVIVAL_GRACE_DAY'] = grace_day_idx\n",
    "    \n",
    "    return pd.Series(results)\n",
    "\n",
    "# Apply the function to each group and join the results back to the summary DataFrame\n",
    "survival_grace_days = weekly.groupby('USER_ID').apply(calculate_survival_grace_days)\n",
    "summary_df = summary_df.join(survival_grace_days, on='USER_ID', how=\"left\")\n",
    "summary_df.fillna(0, inplace=True)\n",
    "cstmr = cstmr.merge(summary_df, on=\"USER_ID\", how=\"left\")\n"
   ]
  },
  {
   "cell_type": "markdown",
   "id": "3ef75916",
   "metadata": {},
   "source": [
    "# Flags"
   ]
  },
  {
   "cell_type": "code",
   "execution_count": 25,
   "id": "27942750",
   "metadata": {},
   "outputs": [],
   "source": [
    "flags = []\n",
    "for i in range(6, 53):    \n",
    "    left_side = cstmr[cstmr[\"0_WEEKS_SURVIVAL_GRACE_DAY\"] <= i]\n",
    "    right_side = cstmr[cstmr[\"0_WEEKS_SURVIVAL_GRACE_DAY\"] > i]\n",
    "\n",
    "    temp1 = []\n",
    "    temp2 = []\n",
    "    for visit in range(1, 7*i+1):\n",
    "        temp1.append(len(left_side[left_side[\"VISITS_\"+str(i)+\"_WEEKS\"] >= visit]) / len(left_side))\n",
    "        temp2.append(len(right_side[right_side[\"VISITS_\"+str(i)+\"_WEEKS\"] >= visit]) / len(right_side))\n",
    "\n",
    "    difference = np.array(temp2) - np.array(temp1)\n",
    "    max_diff = round(max(difference), 2)\n",
    "    max_diff_index = np.argmax(difference)\n",
    "    flags.append(max_diff_index)\n",
    "\n",
    "for i, vst in enumerate(flags):\n",
    "    cstmr[\"Flag_\"+str(i+6)] = ((cstmr[\"VISITS_\"+str(i+6)+\"_WEEKS\"] >= vst) & (cstmr[\"CONTRACT_LEN_WEEKS\"] >= i+6)).astype(int)"
   ]
  },
  {
   "cell_type": "markdown",
   "id": "ab4758d3",
   "metadata": {},
   "source": [
    "# Prep for DoWhy"
   ]
  },
  {
   "cell_type": "code",
   "execution_count": 31,
   "id": "9ca0365b-ffab-4fcd-aec0-3dff22d7dad5",
   "metadata": {},
   "outputs": [],
   "source": [
    "for i in tqdm(range(6, 18)):\n",
    "    non_zero_values = cstmr[cstmr['GROUP_LESSONS_'+str(i)+'_WEEKS'] > 0]['GROUP_LESSONS_'+str(i)+'_WEEKS']\n",
    "    quantiles = non_zero_values.quantile([1/3, 2/3])\n",
    "    cstmr['GROUP_LESSONS_'+str(i)+'_WEEKS_0'] = (cstmr['GROUP_LESSONS_'+str(i)+'_WEEKS'] == 0).astype(int)\n",
    "    cstmr['GROUP_LESSONS_'+str(i)+'_WEEKS_1'] = ((cstmr['GROUP_LESSONS_'+str(i)+'_WEEKS'] > 0)).astype(int)\n",
    "    cstmr['GROUP_LESSONS_'+str(i)+'_WEEKS_2'] = ((cstmr['GROUP_LESSONS_'+str(i)+'_WEEKS'] > quantiles[1/3])).astype(int)\n",
    "    cstmr['GROUP_LESSONS_'+str(i)+'_WEEKS_3'] = (cstmr['GROUP_LESSONS_'+str(i)+'_WEEKS'] > quantiles[2/3]).astype(int)\n",
    "    \n",
    "    \n",
    "    non_zero_values = cstmr[cstmr[\"PT_\"+str(i)+\"_WEEKS\"] > 0][\"PT_\"+str(i)+\"_WEEKS\"]\n",
    "    quantiles = non_zero_values.quantile([1/3, 2/3])\n",
    "    cstmr[\"PT_\"+str(i)+\"_WEEKS_0\"] = (cstmr[\"PT_\"+str(i)+\"_WEEKS\"] == 0).astype(int)\n",
    "    cstmr[\"PT_\"+str(i)+\"_WEEKS_1\"] = (cstmr[\"PT_\"+str(i)+\"_WEEKS\"] > 0).astype(int)\n",
    "    cstmr[\"PT_\"+str(i)+\"_WEEKS_2\"] = (cstmr[\"PT_\"+str(i)+\"_WEEKS\"] > quantiles[1/3]).astype(int)\n",
    "    cstmr[\"PT_\"+str(i)+\"_WEEKS_3\"] = (cstmr[\"PT_\"+str(i)+\"_WEEKS\"] > quantiles[2/3]).astype(int)\n",
    "    \n",
    "    non_zero_values = cstmr[cstmr[\"DIFF_VST_\"+str(i)] > 0][\"DIFF_VST_\"+str(i)]\n",
    "    quantiles = non_zero_values.quantile([1/3, 2/3])\n",
    "    cstmr[\"DIFF_VST_\"+str(i)+'_0'] = (cstmr[\"DIFF_VST_\"+str(i)] == 0).astype(int)\n",
    "    cstmr[\"DIFF_VST_\"+str(i)+'_1'] = (cstmr[\"DIFF_VST_\"+str(i)] > 0).astype(int)\n",
    "    cstmr[\"DIFF_VST_\"+str(i)+'_2'] = (cstmr[\"DIFF_VST_\"+str(i)] > quantiles[1/3]).astype(int)\n",
    "    cstmr[\"DIFF_VST_\"+str(i)+'_3'] = (cstmr[\"DIFF_VST_\"+str(i)] > quantiles[2/3]).astype(int)\n",
    "    \n",
    "    non_zero_values = cstmr[cstmr[\"DIFF_GROUP_LESSON_\"+str(i)] > 0][\"DIFF_GROUP_LESSON_\"+str(i)]\n",
    "    quantiles = non_zero_values.quantile([1/3, 2/3])\n",
    "    cstmr[\"DIFF_GROUP_LESSON_\"+str(i)+'_0'] = (cstmr[\"DIFF_GROUP_LESSON_\"+str(i)] == 0).astype(int)\n",
    "    cstmr[\"DIFF_GROUP_LESSON_\"+str(i)+'_1'] = (cstmr[\"DIFF_GROUP_LESSON_\"+str(i)] > 0).astype(int)\n",
    "    cstmr[\"DIFF_GROUP_LESSON_\"+str(i)+'_2'] = (cstmr[\"DIFF_GROUP_LESSON_\"+str(i)] > quantiles[1/3]).astype(int)\n",
    "    cstmr[\"DIFF_GROUP_LESSON_\"+str(i)+'_3'] = (cstmr[\"DIFF_GROUP_LESSON_\"+str(i)] > quantiles[2/3]).astype(int)\n",
    "    \n",
    "    \n",
    "    non_zero_values = cstmr[cstmr[\"CREDIT_\"+str(i)+\"_WEEKS\"] > 0][\"CREDIT_\"+str(i)+\"_WEEKS\"]\n",
    "    quantiles = non_zero_values.quantile([1/3, 2/3])\n",
    "    cstmr['CREDIT_'+str(i)+'_WEEKS_0'] = (cstmr[\"CREDIT_\"+str(i)+\"_WEEKS\"] == 0).astype(int)\n",
    "    cstmr['CREDIT_'+str(i)+'_WEEKS_1'] = (cstmr[\"CREDIT_\"+str(i)+\"_WEEKS\"] > 0).astype(int)\n",
    "    cstmr['CREDIT_'+str(i)+'_WEEKS_2'] = (cstmr[\"CREDIT_\"+str(i)+\"_WEEKS\"] > quantiles[1/3]).astype(int)\n",
    "    cstmr['CREDIT_'+str(i)+'_WEEKS_3'] = (cstmr[\"CREDIT_\"+str(i)+\"_WEEKS\"] > quantiles[2/3]).astype(int)"
   ]
  },
  {
   "cell_type": "code",
   "execution_count": 33,
   "id": "51065c38-a3f3-47cc-9299-d1de99ab5f05",
   "metadata": {},
   "outputs": [],
   "source": [
    "cols = [\"TECRUBE\", 'FORM', 'SIKLIK']\n",
    "\n",
    "for i in cols:\n",
    "    value_counts = cstmr[i].value_counts()\n",
    "    cstmr.loc[cstmr[i].isin(value_counts[value_counts < 250].index), i] = np.nan\n",
    "    cstmr[i] = cstmr[i].fillna(\"N/A\")\n",
    "\n",
    "temp_1 = pd.get_dummies(cstmr[[\"FORM\", \"TECRUBE\", \"SIKLIK\"]], prefix=[\"FORM\", \"TECRUBE\", \"SIKLIK\"], dtype=int)\n",
    "\n",
    "temp_1[\"FORM>10\"] = temp_1[\"FORM_30+\"] | temp_1[\"FORM_10-30\"]\n",
    "temp_1[\"FORM>30\"] = temp_1[\"FORM_30+\"]\n",
    "temp_1[\"TECRUBE>0\"] = temp_1[\"TECRUBE_1-2\"] | temp_1[\"TECRUBE_2+\"] | temp_1[\"TECRUBE_<1\"]\n",
    "temp_1[\"TECRUBE>1\"] = temp_1[\"TECRUBE_1-2\"] | temp_1[\"TECRUBE_2+\"]\n",
    "temp_1[\"TECRUBE>2\"] = temp_1[\"TECRUBE_2+\"]\n",
    "temp_1[\"SIKLIK>1\"] = temp_1[\"SIKLIK_1-2\"] | temp_1[\"SIKLIK_2+\"]\n",
    "temp_1[\"SIKLIK>2\"] = temp_1[\"SIKLIK_2+\"]\n",
    "\n",
    "temp_1 = temp_1[[\"FORM>10\", \"FORM>30\", \"TECRUBE>0\", \"TECRUBE>1\", \"TECRUBE>2\", \"SIKLIK>1\", \"SIKLIK>2\"]]\n",
    "\n",
    "# Concatenate the dummy columns with the remaining columns\n",
    "cstmr = pd.concat([cstmr, temp_1], axis=1)"
   ]
  },
  {
   "cell_type": "code",
   "execution_count": 42,
   "id": "db7b1d9a",
   "metadata": {},
   "outputs": [],
   "source": [
    "cstmr.to_csv(\"cstmr_june_22_dowhy.csv\", index=False)"
   ]
  }
 ],
 "metadata": {
  "kernelspec": {
   "display_name": "Python [conda env:base] *",
   "language": "python",
   "name": "conda-base-py"
  },
  "language_info": {
   "codemirror_mode": {
    "name": "ipython",
    "version": 3
   },
   "file_extension": ".py",
   "mimetype": "text/x-python",
   "name": "python",
   "nbconvert_exporter": "python",
   "pygments_lexer": "ipython3",
   "version": "3.12.7"
  }
 },
 "nbformat": 4,
 "nbformat_minor": 5
}
